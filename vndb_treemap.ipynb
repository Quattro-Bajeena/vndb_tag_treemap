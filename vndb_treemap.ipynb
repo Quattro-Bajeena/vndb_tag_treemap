{
 "cells": [
  {
   "cell_type": "code",
   "execution_count": 1,
   "metadata": {},
   "outputs": [],
   "source": [
    "import pandas as pd\n",
    "\n",
    "df = pd.read_json(\"vndb-tags-2023-01-10.json\")\n",
    "df_test = pd.read_csv('https://raw.githubusercontent.com/plotly/datasets/96c0bd/sunburst-coffee-flavors-complete.csv')\n"
   ]
  },
  {
   "cell_type": "code",
   "execution_count": 2,
   "metadata": {},
   "outputs": [],
   "source": [
    "def change_tag(row):\n",
    "    if len(row[\"parents\"]) == 0:\n",
    "        row[\"parents\"] = 0\n",
    "    else:\n",
    "        row[\"parents\"] = row[\"parents\"][0]\n",
    "    return row\n",
    "    \n",
    "\n",
    "df = df.apply(change_tag, axis=1)\n",
    "root = pd.DataFrame(columns=df.columns, data=[['', False, \"tech\", \"\", 0, True, \"Tags\", None, False, 0]])\n",
    "df = pd.concat([df, root], axis=0)"
   ]
  },
  {
   "cell_type": "code",
   "execution_count": 3,
   "metadata": {},
   "outputs": [],
   "source": [
    "import plotly.graph_objects as go\n",
    "\n",
    "\n",
    "fig = go.Figure(go.Treemap(\n",
    "    ids= df[\"id\"],\n",
    "    labels=df[\"name\"],\n",
    "    parents=df[\"parents\"],\n",
    "    values=df[\"vns\"],\n",
    "    root_color=\"lightgrey\"\n",
    "))\n",
    "\n",
    "fig.update_layout(\n",
    "    margin = dict(t=50, l=25, r=25, b=25)\n",
    ")\n",
    "# fig.show()\n",
    "fig.write_html(\"index.html\")"
   ]
  }
 ],
 "metadata": {
  "kernelspec": {
   "display_name": "Python 3",
   "language": "python",
   "name": "python3"
  },
  "language_info": {
   "codemirror_mode": {
    "name": "ipython",
    "version": 3
   },
   "file_extension": ".py",
   "mimetype": "text/x-python",
   "name": "python",
   "nbconvert_exporter": "python",
   "pygments_lexer": "ipython3",
   "version": "3.9.13"
  },
  "orig_nbformat": 4,
  "vscode": {
   "interpreter": {
    "hash": "1ce8a1e833d381456900331856ecb2d339d499981ac1675e44ea096c5ab36902"
   }
  }
 },
 "nbformat": 4,
 "nbformat_minor": 2
}
